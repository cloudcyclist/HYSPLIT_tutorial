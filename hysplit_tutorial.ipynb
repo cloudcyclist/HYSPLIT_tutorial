{
 "cells": [
  {
   "cell_type": "markdown",
   "metadata": {},
   "source": [
    "### Welcome to a small Hysplit analysis tutorial"
   ]
  },
  {
   "cell_type": "code",
   "execution_count": null,
   "metadata": {},
   "outputs": [],
   "source": [
    "### Conda Environment\n",
    "# This file may be used to create an environment using: hysplit.yml\n",
    "# To install the environment go to the terminal and type:\n",
    "# $ conda env create -f hysplit.yml\n",
    "# To activate this environment, use:\n",
    "# $ conda activate hysplit\n",
    "# now you are in the activated environment and have all packages installed\n",
    "# to read HYSPLIT output files and plot them.\n",
    "# starting working on the script type:\n",
    "# $ jupyter notebook hysplit_tutorial.ipynb\n",
    "\n",
    "# To deactivate an active environment, use:\n",
    "# $ conda deactivate"
   ]
  },
  {
   "cell_type": "code",
   "execution_count": 1,
   "metadata": {},
   "outputs": [
    {
     "ename": "ModuleNotFoundError",
     "evalue": "No module named 'xarray'",
     "output_type": "error",
     "traceback": [
      "\u001b[0;31m---------------------------------------------------------------------------\u001b[0m",
      "\u001b[0;31mModuleNotFoundError\u001b[0m                       Traceback (most recent call last)",
      "Input \u001b[0;32mIn [1]\u001b[0m, in \u001b[0;36m<cell line: 3>\u001b[0;34m()\u001b[0m\n\u001b[1;32m      1\u001b[0m \u001b[38;5;66;03m# import all packages\u001b[39;00m\n\u001b[1;32m      2\u001b[0m \u001b[38;5;28;01mimport\u001b[39;00m \u001b[38;5;21;01mnumpy\u001b[39;00m \u001b[38;5;28;01mas\u001b[39;00m \u001b[38;5;21;01mnp\u001b[39;00m\n\u001b[0;32m----> 3\u001b[0m \u001b[38;5;28;01mimport\u001b[39;00m \u001b[38;5;21;01mxarray\u001b[39;00m \u001b[38;5;28;01mas\u001b[39;00m \u001b[38;5;21;01mxr\u001b[39;00m\n\u001b[1;32m      4\u001b[0m \u001b[38;5;66;03m#from netCDF4 import Dataset\u001b[39;00m\n\u001b[1;32m      5\u001b[0m \u001b[38;5;28;01mimport\u001b[39;00m \u001b[38;5;21;01mpandas\u001b[39;00m \u001b[38;5;28;01mas\u001b[39;00m \u001b[38;5;21;01mpd\u001b[39;00m\n",
      "\u001b[0;31mModuleNotFoundError\u001b[0m: No module named 'xarray'"
     ]
    }
   ],
   "source": [
    "# import all packages\n",
    "import numpy as np\n",
    "#import xarray as xr\n",
    "#from netCDF4 import Dataset\n",
    "import pandas as pd\n",
    "import glob, os\n",
    "from datetime import datetime\n",
    "#packages needed for plotting\n",
    "import matplotlib.pyplot as plt\n",
    "import matplotlib as mpl\n",
    "import cartopy.crs as ccrs\n",
    "#packages needed for clustering\n",
    "from sklearn.cluster import KMeans\n",
    "from sklearn import metrics\n",
    "from sklearn.metrics import davies_bouldin_score\n",
    "today_date = datetime.now().strftime(\"%Y_%m_%d\")"
   ]
  },
  {
   "cell_type": "code",
   "execution_count": null,
   "metadata": {},
   "outputs": [],
   "source": [
    "path_traj = '/where/are/my/Hysplit/files'\n",
    "output_path= '/where/should/my/output/files/go'\n",
    "\n",
    "### Finding all Hysplit dat files\n",
    "all_files= glob.glob(path_traj + \"*.dat\")\n",
    "all_files.sort()\n",
    "\n",
    "#common structure for HYSPLIT dat files in columns\n",
    "#header= ['YEAR','MON',\t'DAY',\t'HOUR',\t'MIN',\t'SEC',\t'TrajHour',\t'LAT',\t'LON',\t'HEIGHT',\t'PRESSURE',\t'THETA',\t'AIR_TEMP',\t'RAINFALL',\t'MIXDEPTH',\t'RELHUMID',\t'SPCHYUMID',\t'H2OMIXRA',\t'TERR_MSL', 'SUN_FLUX']"
   ]
  },
  {
   "cell_type": "code",
   "execution_count": null,
   "metadata": {},
   "outputs": [],
   "source": [
    "# Reading necessary HYSPLIT columns as list\n",
    "list_lla=[]\n",
    "list_xyz=[]\n",
    "pd_traj=pd.DataFrame()\n",
    "for f in all_files:\n",
    "    table = pd.read_table(f)     # read all files into a table\n",
    "    for i,s in enumerate(table.iloc[:,0]):\n",
    "        if '10 PRESSURE' in s:\n",
    "            p = i\n",
    "            break\n",
    "    t=pd.read_csv(f, skiprows=p+2, sep='\\s+', usecols=[9,10,11], names=['Lat','Lon','Height'])\n",
    "    x,y,z= lla_to_xyz(t['Lat'], t['Lon'], t['Height'])  #conversion to x,y,z for clustering\n",
    "    df = pd.DataFrame(data={'x': x, 'y': y})\n",
    "    list_lla.append(t)\n",
    "    list_xyz.append(df)"
   ]
  },
  {
   "cell_type": "code",
   "execution_count": null,
   "metadata": {},
   "outputs": [],
   "source": [
    "#adding new strings for clustering dataframe header\n",
    "#strings just count from 1 ... n, where n is lenth of the trajectory in hours\n",
    "#for example 10 days backwards are 241 hours\n",
    "n = 241\n",
    "strs_x = ['x{}'.format(x) for x in range(n)]\n",
    "strs_y = ['y{}'.format(x) for x in range(n)]\n",
    "strs = strs_x + strs_y\n",
    "\n",
    "traj_list=[]\n",
    "for i in range(len(l_xyz)):\n",
    "    traj_list.append(np.array(l_xyz[i]).flatten())\n",
    "\n",
    "#change your dates and timedelta here\n",
    "df_traj=pd.DataFrame(traj_list,index=pd.date_range(start='2009-01-01', periods=len(l_xyz), freq='3H'))\n",
    "df_traj.columns= strs"
   ]
  },
  {
   "cell_type": "code",
   "execution_count": null,
   "metadata": {},
   "outputs": [],
   "source": [
    "#Check if there are NaN values in the dataframe\n",
    "nan_count= df_traj.isna().any().count()\n",
    "nan_count\n",
    "\n",
    "#in case of NaN values you will have to drop the rows"
   ]
  },
  {
   "cell_type": "code",
   "execution_count": null,
   "metadata": {},
   "outputs": [],
   "source": [
    "#df_t is the dataframe without any NaN values\n",
    "df_T= df_traj.dropna()\n",
    "len(df_T), len(traj_list), len(df_traj) #checking the lenght for comparisons"
   ]
  },
  {
   "cell_type": "code",
   "execution_count": null,
   "metadata": {},
   "outputs": [],
   "source": [
    "#decide on how many clusters\n",
    "cluster_number=6\n",
    "#clustering\n",
    "#check documentation for more information\n",
    "kmeans = KMeans(n_clusters=cluster_number, random_state=0).fit(df_T)"
   ]
  },
  {
   "cell_type": "code",
   "execution_count": null,
   "metadata": {},
   "outputs": [],
   "source": [
    "#Output on clustering related information\n",
    "print('number of interations, inertia and number of features:')\n",
    "kmeans.n_iter_, kmeans.inertia_, kmeans.n_features_in_"
   ]
  },
  {
   "cell_type": "code",
   "execution_count": null,
   "metadata": {},
   "outputs": [],
   "source": [
    "#cluster centres are your central trajectory for each group\n",
    "cluster_centres=np.array(kmeans.cluster_centers_)\n",
    "#reshape into numpy array with number of clusters, dimension (lat,lon) and trajectory length\n",
    "cen_traj=np.reshape(cluster_centres, (cluster_number,2,n))\n"
   ]
  },
  {
   "cell_type": "code",
   "execution_count": null,
   "metadata": {},
   "outputs": [],
   "source": [
    "#these are still in x,y coordinates,\n",
    "#you can convert them back to lat,lon with the following function\n",
    "#lat,lon= xyz_to_lla(x,y,z)\n",
    "#try it yourself"
   ]
  },
  {
   "cell_type": "code",
   "execution_count": null,
   "metadata": {},
   "outputs": [],
   "source": [
    "#kmeans.labels_ are the labels for each trajectory\n",
    "# you could plot these as a histogram\n",
    "#to see how many trajectories are in each cluster\n",
    "plt.title('Frequency of cluster')\n",
    "plt.hist(kmeans.labels_, bins=cluster_number)\n",
    "plt.savefig(str(cluster_number)+'cluster_'+str(date)+'.png')\n",
    "plt.show()\n",
    "\n",
    "#maybe change the x ticks to 1 to cluster_number, since Python starts counting at 0\n",
    "\n"
   ]
  },
  {
   "cell_type": "code",
   "execution_count": null,
   "metadata": {},
   "outputs": [],
   "source": [
    "#you can also plot the trajectories in a map\n",
    "#Plot the trajectory centroids on a map\n",
    "fig = plt.figure(figsize=(8,8))\n",
    "ax = plt.axes(projection=ccrs.NorthPolarStereo())\n",
    "\n",
    "ax.coastlines(linewidth=0.5) # Add features to axes object\n",
    " \n",
    "# Add contour lines\n",
    "ax.plot(ctraj1['y'],ctraj1['x'], color=\"b\",transform=ccrs.PlateCarree(),label='cluster 1')\n",
    "ax.plot(ctraj2['y'],ctraj2['x'], color=\"r\",transform=ccrs.PlateCarree(),label='cluster 2')\n",
    "ax.plot(ctraj3['y'],ctraj3['x'], color=\"g\",transform=ccrs.PlateCarree(),label='cluster 3')\n",
    "ax.plot(ctraj4['y'],ctraj4['x'], color=\"k\",transform=ccrs.PlateCarree(),label='cluster 4')\n",
    "ax.plot(ctraj5['y'],ctraj5['x'], color=\"y\",transform=ccrs.PlateCarree(),label='cluster 5')\n",
    "ax.plot(ctraj6['y'],ctraj6['x'], color=\"purple\",transform=ccrs.PlateCarree(),label='cluster 6')\n",
    "\n",
    "ax.set_extent([-180, 180, 63, 90], ccrs.PlateCarree())\n",
    "plt.legend(loc= 'upper left', fontsize=14)\n",
    "plt.savefig('cluster_traj_no'+str(cluster_number)+'_'+str(date)+'.png')"
   ]
  },
  {
   "cell_type": "code",
   "execution_count": null,
   "metadata": {},
   "outputs": [],
   "source": [
    "#For checking how many clusters you want you could use the Davies Bouldin Score\n",
    "results = {}\n",
    "for i in range(2,15):\n",
    "    kmeans = KMeans(n_clusters=i, random_state=30)\n",
    "    labels = kmeans.fit_predict(df_T)\n",
    "    db_index = davies_bouldin_score(df_T, labels)\n",
    "    results.update({i: db_index})\n",
    "\n",
    "plt.plot(results.values())\n",
    "plt.xlabel(\"Number of clusters\")\n",
    "plt.ylabel(\"Davies-Boulding Index\")\n",
    "plt.show()"
   ]
  },
  {
   "cell_type": "code",
   "execution_count": null,
   "metadata": {},
   "outputs": [],
   "source": [
    "#Plotting the Freqnecy of visits per gridbox can be done in a lot of ways\n",
    "#here you can see how it is done for an hexbin grid\n",
    "\n",
    "NUMBER_OF_TRAJECTORIES = len(df_T) # Don't forget keep this up to date!\n",
    "HEXBIN_GRID_SIZE = 150  #How many hexbins do you want?\n",
    "CLAT, CLON = 78.906, 11.888  #where is your receptor site?\n",
    "\n",
    "# Data and map projection\n",
    "data_crs = ccrs.PlateCarree()\n",
    "map_crs  = ccrs.LambertAzimuthalEqualArea(central_longitude=CLON, central_latitude=CLAT)\n",
    "\n",
    "# Initialise figure\n",
    "from locale import normalize\n",
    "\n",
    "fig, ax = plt.subplots(1, 1, subplot_kw={'projection': map_crs}, figsize=(8, 6))\n",
    "ax.coastlines(resolution='50m', linewidth=0.5)\n",
    "ax.gridlines(alpha=0.5, linestyle='--')\n",
    "\n",
    "extent = 4500000  #how much map is supposedd to be seen?\n",
    "ax.set_extent([-extent, extent, -extent, extent], crs=map_crs)\n",
    "#You can also change the extent individually or change to lat,lon\n",
    "\n",
    "# Plot station marker\n",
    "stat_x, stat_y = ax.projection.transform_point(CLON, CLAT, src_crs=data_crs)\n",
    "ax.plot(stat_x, stat_y, '^', markersize=5, color='red', zorder=10)\n",
    "\n",
    "# Define C as a list of indices\n",
    "C = np.arange(x.size)\n",
    "img = ax.hexbin(x, y, C=C, transform=data_crs, gridsize=HEXBIN_GRID_SIZE, reduce_C_function=frequency_of_visit, vmin=0, vmax=18, linewidth=0.2, mincnt=5)\n",
    "clb = fig.colorbar(img, ax=ax)\n",
    "clb.ax.set_title('%')\n",
    "\n",
    "# Add the centroid of the trajectories on top of the hexbin grid\n",
    "#ax.plot(ctraj1['y'],ctraj1['x'], color=\"deepskyblue\",transform=ccrs.Geodetic(),label='cluster 1')    \n",
    "#plt.legend(loc= 'lower left', fontsize=14, ncol=2)\n",
    "\n",
    "plt.savefig('hexbin150_'+str(date)+'.png', bbox_inches='tight', dpi=500)\n",
    "plt.show()"
   ]
  },
  {
   "cell_type": "markdown",
   "metadata": {},
   "source": [
    "Functions"
   ]
  },
  {
   "cell_type": "code",
   "execution_count": 1,
   "metadata": {},
   "outputs": [],
   "source": [
    "def lla_to_xyz(lat, lon, alt):\n",
    "    #conversion from lat,lon,alt to cartesian coordinates\n",
    "    a = 6378137 \n",
    "    f = 1/298.257224\n",
    "    e = np.sqrt(2*f-f**2)\n",
    "         \n",
    "    lat = np.radians(lat)\n",
    "    lon = np.radians(lon)\n",
    "        \n",
    "    #The eccentricity of the figure of the earth is found from    \n",
    "    C = 1/(np.sqrt( (np.cos(lat)**2 + (1-f)**2 * (np.sin(lat))**2) ))        \n",
    "    S = (1-f)**2 * C \n",
    "\n",
    "    x = (a*C+alt)*np.cos(lat)*np.cos(lon)\n",
    "    y = (a*C+alt)*np.cos(lat)*np.sin(lon)\n",
    "    z = (a*S+alt)*np.sin(lat)\n",
    "\n",
    "    return x, y, z"
   ]
  },
  {
   "cell_type": "code",
   "execution_count": 2,
   "metadata": {},
   "outputs": [],
   "source": [
    "def xyz_to_lla(x,y,z):\n",
    "    #conversion from cartesian coordinates to lat,lon,alt\n",
    "    import math\n",
    "    #constants:\n",
    "    a = 6378137 \n",
    "    f = 1/298.257224\n",
    "    e = np.sqrt(2*f-f**2)\n",
    "    \n",
    "    b   = np.sqrt(a**2*(1-e**2));\n",
    "    ep  = np.sqrt((a**2-b**2)/b**2);\n",
    "    p   = np.sqrt(x**2+y**2);\n",
    "    th  = math.atan2(a*z,b*p);\n",
    "    lon = math.atan2(y,x);\n",
    "    lat = math.atan2((z+ep**2*b*math.sin(th)**3),(p-e**2*a*math.cos(th)**3));\n",
    "    N   = a/np.sqrt(1-e**2*math.sin(lat)**2);\n",
    "    alt = p/math.cos(lat)-N;\n",
    "    \n",
    "    lon = math.degrees(lon)\n",
    "    lat = math.degrees(lat)\n",
    "        \n",
    "    return lat, lon, alt"
   ]
  },
  {
   "cell_type": "code",
   "execution_count": null,
   "metadata": {},
   "outputs": [],
   "source": [
    "def frequency_of_visit(C):\n",
    "    # C contains the values per step-point which are within a given hexagon\n",
    "    # Frequency of visit expects indices of the flattened step-points i.e. an array like [0, 1, ..., n-1, n]\n",
    "    C = np.array(C)\n",
    "\n",
    "    # Calculate the number of unique visits to a given grid box\n",
    "    # This accounts for trajectories looping through the same grid box multiple times\n",
    "    mask = np.insert((np.diff(C) - 1).astype(bool), 0, True)\n",
    "    visits = C[mask].size\n",
    "\n",
    "    return visits / NUMBER_OF_TRAJECTORIES * 100"
   ]
  }
 ],
 "metadata": {
  "kernelspec": {
   "display_name": "Python 3 (ipykernel)",
   "language": "python",
   "name": "python3"
  },
  "language_info": {
   "codemirror_mode": {
    "name": "ipython",
    "version": 3
   },
   "file_extension": ".py",
   "mimetype": "text/x-python",
   "name": "python",
   "nbconvert_exporter": "python",
   "pygments_lexer": "ipython3",
   "version": "3.9.13"
  },
  "vscode": {
   "interpreter": {
    "hash": "0353b8d43e845fab9c04733c88acb0622b8dbb8afd3302155c8ebd0020c37cb5"
   }
  }
 },
 "nbformat": 4,
 "nbformat_minor": 2
}
